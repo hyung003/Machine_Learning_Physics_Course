{
 "cells": [
  {
   "cell_type": "markdown",
   "metadata": {},
   "source": [
    "__These are the data-set for the number of car accidents in the rush hour of a small city. You\n",
    "are assigned to predict the number of car accidents in a given hour of the day. You\n",
    "need to find the full probability distribution of this quantity.\n",
    "Also, make sure to clearly state the assumptions you are making at each step.__\n",
    "\n",
    "__16 24 16 12 16 11 14 15 9 14 7__\n",
    "\n",
    "__Table 1: The Number of Accident during rush hour__"
   ]
  },
  {
   "cell_type": "markdown",
   "metadata": {},
   "source": [
    "__Assumptions__\n",
    "\n",
    "- The probability of a car accident is the same during each traffic hour at which the datapoint was recorded \n",
    "- The numbers of recorded car accidents are representative of the population\n",
    "- The distribution of car accidents is a normal distribution since variation around the mean should be symmetrical for a big enough sample size\n",
    "- The calculated mean is representative of the true mean for entire population"
   ]
  },
  {
   "cell_type": "code",
   "execution_count": 9,
   "metadata": {},
   "outputs": [],
   "source": [
    "import numpy as np\n",
    "import pandas as pd\n",
    "import matplotlib.pyplot as plt"
   ]
  },
  {
   "cell_type": "code",
   "execution_count": 4,
   "metadata": {},
   "outputs": [
    {
     "data": {
      "text/html": [
       "<div>\n",
       "<style scoped>\n",
       "    .dataframe tbody tr th:only-of-type {\n",
       "        vertical-align: middle;\n",
       "    }\n",
       "\n",
       "    .dataframe tbody tr th {\n",
       "        vertical-align: top;\n",
       "    }\n",
       "\n",
       "    .dataframe thead th {\n",
       "        text-align: right;\n",
       "    }\n",
       "</style>\n",
       "<table border=\"1\" class=\"dataframe\">\n",
       "  <thead>\n",
       "    <tr style=\"text-align: right;\">\n",
       "      <th></th>\n",
       "      <th>0</th>\n",
       "    </tr>\n",
       "  </thead>\n",
       "  <tbody>\n",
       "    <tr>\n",
       "      <th>count</th>\n",
       "      <td>11.000000</td>\n",
       "    </tr>\n",
       "    <tr>\n",
       "      <th>mean</th>\n",
       "      <td>14.000000</td>\n",
       "    </tr>\n",
       "    <tr>\n",
       "      <th>std</th>\n",
       "      <td>4.472136</td>\n",
       "    </tr>\n",
       "    <tr>\n",
       "      <th>min</th>\n",
       "      <td>7.000000</td>\n",
       "    </tr>\n",
       "    <tr>\n",
       "      <th>25%</th>\n",
       "      <td>11.500000</td>\n",
       "    </tr>\n",
       "    <tr>\n",
       "      <th>50%</th>\n",
       "      <td>14.000000</td>\n",
       "    </tr>\n",
       "    <tr>\n",
       "      <th>75%</th>\n",
       "      <td>16.000000</td>\n",
       "    </tr>\n",
       "    <tr>\n",
       "      <th>max</th>\n",
       "      <td>24.000000</td>\n",
       "    </tr>\n",
       "  </tbody>\n",
       "</table>\n",
       "</div>"
      ],
      "text/plain": [
       "               0\n",
       "count  11.000000\n",
       "mean   14.000000\n",
       "std     4.472136\n",
       "min     7.000000\n",
       "25%    11.500000\n",
       "50%    14.000000\n",
       "75%    16.000000\n",
       "max    24.000000"
      ]
     },
     "execution_count": 4,
     "metadata": {},
     "output_type": "execute_result"
    }
   ],
   "source": [
    "# Load data\n",
    "traffic_acc = [16,24,16,12,16,11,14,15,9,14,7]\n",
    "df = pd.DataFrame(traffic_acc)\n",
    "df.describe()"
   ]
  },
  {
   "cell_type": "code",
   "execution_count": 33,
   "metadata": {},
   "outputs": [],
   "source": [
    "def Gaussian_prob(x, _mu=0, _sigma=1):\n",
    "    \"\"\"Gaussian disturbution: probability of getting x given mu=_mu, sigma=_sigma\"\"\"\n",
    "    return (1/np.sqrt(2*np.pi*_sigma**2))*np.exp(-(x-_mu)**2/(2*_sigma**2))"
   ]
  },
  {
   "cell_type": "code",
   "execution_count": 37,
   "metadata": {},
   "outputs": [],
   "source": [
    "x_span = np.linspace(0,30, 1000)\n",
    "mu, sigma = 14, 4.472136\n",
    "\n",
    "prob_list = [Gaussian_prob(x, mu, sigma) for x in x_span]"
   ]
  },
  {
   "cell_type": "code",
   "execution_count": 38,
   "metadata": {},
   "outputs": [
    {
     "data": {
      "image/png": "[encoded data removed]",
      "text/plain": [
       "<matplotlib.figure.Figure at 0xa547470>"
      ]
     },
     "metadata": {},
     "output_type": "display_data"
    }
   ],
   "source": [
    "plt.plot(x_span, prob_list)\n",
    "\n",
    "plt.title(\"Gaussian Distribution for $\\mu=$ {} , and $\\sigma=$ {}\".format(mu, sigma))\n",
    "plt.xlabel(r\"x\")\n",
    "plt.ylabel(r\"$P(x|\\mu, \\sigma)$\")\n",
    "\n",
    "plt.show()"
   ]
  },
  {
   "cell_type": "markdown",
   "metadata": {},
   "source": [
    "__Write a python function to find µ and σ:__\n"
   ]
  },
  {
   "cell_type": "code",
   "execution_count": 5,
   "metadata": {},
   "outputs": [],
   "source": [
    "#Example from Class for two gaussian\n",
    "def n_gaussian(l_mu, l_sig): \n",
    "    return (mu1*sigma2**2+mu2*sigma1**2)/(sigma1**2+sigma2**2), (sigma2*sigma1)/np.sqrt(sigma1**2+sigma2**2)"
   ]
  },
  {
   "cell_type": "markdown",
   "metadata": {},
   "source": [
    "__Expand on example from class for 3 gaussian__\n",
    "\n",
    "$Gaussian($\n",
    "$\\frac{(\\mu1 = 1)(\\sigma2=5)^2  + (\\mu1 = 1)(\\sigma3=6)^2 + (\\mu2 = 2)(\\sigma1=4)^2 + (\\mu2 = 2)(\\sigma3=6)^2  + (\\mu3 = 3)(\\sigma1=4)^2 + (\\mu3 = 3)(\\sigma2=5)^2}{(\\sigma1=4)^2 + (\\sigma2=5)^2 + (\\sigma3=6)^2 }$ ,$\\frac{(\\sigma1=4)(\\sigma2=5)(\\sigma3=6)}{\\sqrt{(\\sigma1=4)^2) + (\\sigma2=5)^2} + (\\sigma3=6)^2}$ )"
   ]
  },
  {
   "cell_type": "markdown",
   "metadata": {},
   "source": [
    "__Function Solution__"
   ]
  },
  {
   "cell_type": "code",
   "execution_count": 7,
   "metadata": {},
   "outputs": [],
   "source": [
    "def n_gaussian(mu,std):\n",
    "    \n",
    "    def num_mu():\n",
    "        arr = []\n",
    "        #loop through array and take out the corresponding index\n",
    "        for index, number in enumerate(mu) :\n",
    "            b_list = std\n",
    "            new_b = np.delete(b_list, index)\n",
    "            sol = sum(number * (new_b**2))\n",
    "            arr.append(sol)\n",
    "        return(sum(arr))\n",
    "\n",
    "    def den_mu():\n",
    "        return sum(std**2)\n",
    "    \n",
    "    def num_std():\n",
    "        a = 1\n",
    "        a = float(a)\n",
    "        for number in std:\n",
    "            a *= number\n",
    "        return a\n",
    "    \n",
    "    def den_std():\n",
    "        return np.sqrt(sum(std**2))\n",
    "        \n",
    "    return((num_mu()/den_mu()),num_std()/den_std())"
   ]
  },
  {
   "cell_type": "code",
   "execution_count": 8,
   "metadata": {},
   "outputs": [
    {
     "name": "stdout",
     "output_type": "stream",
     "text": [
      "(7.845353846153847, 1.4685712575362284)\n",
      "(4875.37688442211, 1.6286776789488893e+153)\n",
      "(303.48387096774195, 8015486326983.816)\n"
     ]
    }
   ],
   "source": [
    "#class example\n",
    "a = np.array([10.12, 7.42])\n",
    "b = np.array([3.7,1.6])\n",
    "\n",
    "#random list of array to test \n",
    "c = np.arange(1,100)\n",
    "d = np.arange(1,100)\n",
    "\n",
    "e =  np.array([10,20,30,40,50,60,70,80])\n",
    "f =  np.array([50,60,70,80,90,100,110,120])\n",
    "\n",
    "print (n_gaussian(a,b))\n",
    "print (n_gaussian(c,d))\n",
    "print (n_gaussian(e,f))"
   ]
  }
 ],
 "metadata": {
  "kernelspec": {
   "display_name": "Python 3",
   "language": "python",
   "name": "python3"
  },
  "language_info": {
   "codemirror_mode": {
    "name": "ipython",
    "version": 3
   },
   "file_extension": ".py",
   "mimetype": "text/x-python",
   "name": "python",
   "nbconvert_exporter": "python",
   "pygments_lexer": "ipython3",
   "version": "3.6.4"
  }
 },
 "nbformat": 4,
 "nbformat_minor": 2
}
