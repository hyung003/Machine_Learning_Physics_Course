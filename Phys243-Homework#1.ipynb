{
 "cells": [
  {
   "cell_type": "markdown",
   "metadata": {},
   "source": [
    "\n",
    "__TA: Abtin Shahidi__\n",
    "\n",
    "__Homework 1\n",
    "PHYS 243\n",
    "April 4, 2019__\n",
    "\n",
    "\n",
    "__Welcome again to the Foundation of applied machine learning!__\n",
    "\n",
    "__Problem 1:__ Python programming\n",
    "This is a problem to check your coding skills! So do not use fancy modules and scripts!\n",
    "Production of Fibonacci Sequence!\n",
    "I have been assigned to write a function that takes an integer value n, where n ∈ [0, 1, 2, 3, ...]\n",
    "and return the n\n",
    "th value in Fibonacci sequence. Since, I am very lazy I just wrote the function\n",
    "recursively as you can see below. Another person, who was assigned to do the same thing,\n",
    "wrote the function with for loops and claims his code is much faster!!\n",
    "\n",
    "\n",
    "__Code 1: Recursive Fibonacci Function__"
   ]
  },
  {
   "cell_type": "code",
   "execution_count": 1,
   "metadata": {},
   "outputs": [],
   "source": [
    "def fib_rec( n=0):\n",
    "    if n==0:\n",
    "        return 1\n",
    "    elif n==1:\n",
    "        return 1\n",
    "    else:\n",
    "        return fib_rec(n-1) + fib_rec(n-2)"
   ]
  },
  {
   "cell_type": "code",
   "execution_count": 2,
   "metadata": {},
   "outputs": [
    {
     "data": {
      "text/plain": [
       "10946"
      ]
     },
     "execution_count": 2,
     "metadata": {},
     "output_type": "execute_result"
    }
   ],
   "source": [
    "fib_rec(20)"
   ]
  },
  {
   "cell_type": "markdown",
   "metadata": {},
   "source": [
    "__Part 1: Rewrite the function with for loop.__"
   ]
  },
  {
   "cell_type": "code",
   "execution_count": 3,
   "metadata": {},
   "outputs": [],
   "source": [
    "def fib_loop(n=0):\n",
    "    a, b  = 1, 1\n",
    "    for i in range(n):\n",
    "        a,b = b, a + b\n",
    "    return a"
   ]
  },
  {
   "cell_type": "code",
   "execution_count": 4,
   "metadata": {},
   "outputs": [
    {
     "data": {
      "text/plain": [
       "10946"
      ]
     },
     "execution_count": 4,
     "metadata": {},
     "output_type": "execute_result"
    }
   ],
   "source": [
    "fib_loop(20)"
   ]
  },
  {
   "cell_type": "markdown",
   "metadata": {},
   "source": [
    "__Part 2: Which function is actually faster? (Explain without running the codes)__"
   ]
  },
  {
   "cell_type": "markdown",
   "metadata": {},
   "source": [
    "In general, it depends on how the cursive and iterative functions are written. The recusive function has two parts: the base and recursive case. The recursive case calls the function on itself which at many times is slower than a loop. In addition, the recursive function will the stack in memory while the loop will simply iterate over the condition given. "
   ]
  },
  {
   "cell_type": "markdown",
   "metadata": {},
   "source": [
    "__Part 3: Write a code to time the average time for k times function call. A function\n",
    "that takes three arguments (function (Fib rec), input of the function (n), number of\n",
    "runs(k)) and run the Fib rec function k times for the input of n and returns the average\n",
    "time. Tip: You can use the time module in the python__"
   ]
  },
  {
   "cell_type": "code",
   "execution_count": 5,
   "metadata": {},
   "outputs": [],
   "source": [
    "def timer_func(f,n,k):\n",
    "    time_ck = 0\n",
    "    timerofrun = 0\n",
    "    for i in range(k):\n",
    "        import time\n",
    "        begin = time.time()\n",
    "        f(n)\n",
    "        end = time.time()\n",
    "        timerofrun = (end-begin)\n",
    "        time_ck += timerofrun\n",
    "    return (time_ck/k)"
   ]
  },
  {
   "cell_type": "code",
   "execution_count": 6,
   "metadata": {},
   "outputs": [
    {
     "name": "stdout",
     "output_type": "stream",
     "text": [
      "((5, 0.0), (10, 0.0), (15, 0.0), (20, 0.0), (25, 0.0), (30, 0.0))\n",
      "((5, 0.0), (10, 0.0), (15, 0.0011346101760864257), (20, 0.008632135391235352), (25, 0.08277075290679932), (30, 0.9227100372314453))\n"
     ]
    }
   ],
   "source": [
    "tup_loop = tuple([(i, timer_func(fib_loop,i,10)) for i in range(5,35,5)])\n",
    "tup_rec = tuple([(i, timer_func(fib_rec,i,10)) for i in range(5,35,5)])\n",
    "print(tup_loop)\n",
    "print(tup_rec)"
   ]
  },
  {
   "cell_type": "markdown",
   "metadata": {},
   "source": [
    "__Part 4: Make a plot in which the x-axis is the value of the input function n and the\n",
    "y-axis is the average time (output of the previous function), for both recursive and nonrecursive Fibonacci. (Both in the same plot; also use matplotlib package for making\n",
    "the plots)__"
   ]
  },
  {
   "cell_type": "code",
   "execution_count": 7,
   "metadata": {},
   "outputs": [
    {
     "data": {
      "image/png": "[encoded data removed]",
      "text/plain": [
       "<matplotlib.figure.Figure at 0x719bf70>"
      ]
     },
     "metadata": {},
     "output_type": "display_data"
    }
   ],
   "source": [
    "%matplotlib inline\n",
    "import matplotlib.pyplot as plt\n",
    "plt.plot(*zip(*tup_loop))\n",
    "plt.plot(*zip(*tup_rec))\n",
    "plt.legend(['Fibonacci loop','Fibonacci Recursive'])\n",
    "plt.ylabel('Average Time in Seconds')\n",
    "plt.xlabel('Input of Function')\n",
    "plt.show()"
   ]
  },
  {
   "cell_type": "markdown",
   "metadata": {},
   "source": [
    "Problem 2: Linear Algebra\n",
    "Given the Matrix below answer the questions:\n",
    "\n",
    "\n",
    "$M=$ \n",
    "$\n",
    "\\begin \n",
    "{pmatrix} 1 & -4 & 2 \\\\ -4 & 1 & -2\\\\ 2 & -2 & -2 \\end{pmatrix}$"
   ]
  },
  {
   "cell_type": "markdown",
   "metadata": {},
   "source": [
    "__Part 1:__Find the determinant, transpose, inverse(if exist) for M."
   ]
  },
  {
   "cell_type": "code",
   "execution_count": 8,
   "metadata": {},
   "outputs": [
    {
     "name": "stdout",
     "output_type": "stream",
     "text": [
      "[[ 1 -4  2]\n",
      " [-4  1 -2]\n",
      " [ 2 -2 -2]]\n"
     ]
    },
    {
     "data": {
      "text/plain": [
       "54.00000000000001"
      ]
     },
     "execution_count": 8,
     "metadata": {},
     "output_type": "execute_result"
    }
   ],
   "source": [
    "import numpy as np\n",
    "\n",
    "ar = np.array([[1, -4, 2], [-4, 1, -2],[2,-2,-2]])\n",
    "print(ar)\n",
    "np.linalg.det(ar)"
   ]
  },
  {
   "cell_type": "markdown",
   "metadata": {},
   "source": [
    "__Determinant Work__\n",
    "\n",
    "\n",
    "\n",
    "\n"
   ]
  },
  {
   "cell_type": "markdown",
   "metadata": {},
   "source": [
    "\n",
    "$det(M)=$\n",
    "\n",
    "\\begin \n",
    "{pmatrix} 1 & -4 & 2 \\\\ -4 & 1 & -2\\\\ 2 & -2 & -2 \\end{pmatrix}$ \n"
   ]
  },
  {
   "cell_type": "markdown",
   "metadata": {},
   "source": [
    "=  $1$\n",
    "$\n",
    "\\begin \n",
    "{pmatrix} 1 & -2 \\\\ -2 & 2 \\end{pmatrix}$ + 4 $\n",
    "\\begin \n",
    "{pmatrix} -4 & -2 \\\\ 2 & -2 \\end{pmatrix}$ + 2 $\\begin \n",
    "{pmatrix} -4 & 1 \\\\ 2 & 2 \\end{pmatrix}$ \n"
   ]
  },
  {
   "cell_type": "markdown",
   "metadata": {},
   "source": [
    "= $\\ 1(-2 -4) + 4(8 + 4) + 2(8-2)$\n"
   ]
  },
  {
   "cell_type": "markdown",
   "metadata": {},
   "source": [
    "= 54"
   ]
  },
  {
   "cell_type": "markdown",
   "metadata": {},
   "source": [
    "__Transpose__"
   ]
  },
  {
   "cell_type": "code",
   "execution_count": 9,
   "metadata": {},
   "outputs": [
    {
     "name": "stdout",
     "output_type": "stream",
     "text": [
      "[[ 1 -4  2]\n",
      " [-4  1 -2]\n",
      " [ 2 -2 -2]]\n"
     ]
    }
   ],
   "source": [
    "print(ar.transpose())"
   ]
  },
  {
   "cell_type": "markdown",
   "metadata": {},
   "source": [
    "Transpose of M is the same \n",
    "\n",
    "$M^T$ = \n",
    "$\n",
    "\\begin \n",
    "{pmatrix} 1 & -4 & 2 \\\\ -4 & 1 & -2\\\\ 2 & -2 & -2 \\end{pmatrix}$\n"
   ]
  },
  {
   "cell_type": "markdown",
   "metadata": {},
   "source": [
    "__Inverse__"
   ]
  },
  {
   "cell_type": "code",
   "execution_count": 10,
   "metadata": {},
   "outputs": [
    {
     "data": {
      "text/plain": [
       "array([[-0.11111111, -0.22222222,  0.11111111],\n",
       "       [-0.22222222, -0.11111111, -0.11111111],\n",
       "       [ 0.11111111, -0.11111111, -0.27777778]])"
      ]
     },
     "execution_count": 10,
     "metadata": {},
     "output_type": "execute_result"
    }
   ],
   "source": [
    "np.linalg.inv(ar)"
   ]
  },
  {
   "cell_type": "markdown",
   "metadata": {},
   "source": [
    "__Inverse Work__\n",
    "\n",
    "$M^-1$ =\n",
    "$\n",
    "\\begin \n",
    "{pmatrix} 1 & -2  \\\\ -2 & -2  \\end{pmatrix}$ \n",
    "$\n",
    "\\begin \n",
    "{pmatrix} -4 & -2  \\\\ 2 & -2  \\end{pmatrix}$ \n",
    "$\n",
    "\\begin \n",
    "{pmatrix} -4 & 1  \\\\ 2 & -2  \\end{pmatrix}$ \n",
    "<p><br />\n",
    "$\n",
    "\\begin \n",
    "{pmatrix} -4 & 2  \\\\ -2 & -2  \\end{pmatrix}$ \n",
    "$\n",
    "\\begin \n",
    "{pmatrix} 1 & 2  \\\\ 2 & -2  \\end{pmatrix}$ \n",
    "$\n",
    "\\begin \n",
    "{pmatrix} 1 & -4  \\\\ 2 & -2  \\end{pmatrix}$ \n",
    "<p><br />\n",
    "$\n",
    "\\begin \n",
    "{pmatrix} -4 & 2  \\\\ 1 & -2  \\end{pmatrix}$ \n",
    "$\n",
    "\\begin \n",
    "{pmatrix} 1 & 2  \\\\ -4 & -2  \\end{pmatrix}$ \n",
    "$\n",
    "\\begin \n",
    "{pmatrix} 1 & -4  \\\\ -4 & 1  \\end{pmatrix}$ "
   ]
  },
  {
   "cell_type": "markdown",
   "metadata": {},
   "source": [
    "=\n",
    "$\n",
    "\\begin \n",
    "{pmatrix} -6 & 12 & 6 \\\\ 12 & -6 & 6 \\\\ 6 & 6 & -15 \\end{pmatrix}$ \n",
    "$\n",
    "\\begin \n",
    "{pmatrix} + & - & + \\\\ - & + & - \\\\ + & - & + \\end{pmatrix}$ \n",
   
    "$\n",
    "\\begin \n",
    "{pmatrix} -6 & -12 & 6 \\\\ -12 & -6 & -6 \\\\ 6 & -6 & -15 \\end{pmatrix}$ "
   ]
  },
  {
   "cell_type": "markdown",
   "metadata": {},
   "source": [
    "$\\frac{1}{54}$\n",
    "$\n",
    "\\begin \n",
    "{pmatrix} -6 & -12 & 6 \\\\ -12 & -6 & -6 \\\\ 6 & -6 & -15 \\end{pmatrix}$ \n",
    "=$\\begin \n",
    "{pmatrix} -\\frac{1}{9} & -\\frac{2}{9} & \\frac{1}{9} \\\\ -\\frac{2}{9} & -\\frac{1}{9} & -\\frac{1}{9} \\\\ \\frac{1}{9} & -\\frac{1}{9} & -\\frac{5}{18} \\end{pmatrix}$ "
   ]
  },
  {
   "cell_type": "markdown",
   "metadata": {},
   "source": [
    "__Part 2: Find the eigenvalues and eigenvectors for M.__\n"
   ]
  },
  {
   "cell_type": "markdown",
   "metadata": {},
   "source": [
    "__Please see scratch paper for work__"
   ]
  },
  {
   "cell_type": "code",
   "execution_count": 11,
   "metadata": {},
   "outputs": [],
   "source": [
    "la, v = np.linalg.eig(ar) "
   ]
  },
  {
   "cell_type": "code",
   "execution_count": 12,
   "metadata": {},
   "outputs": [
    {
     "name": "stdout",
     "output_type": "stream",
     "text": [
      "Eigenvalues: -3.000000000000001 6.0 -3.0\n"
     ]
    }
   ],
   "source": [
    "l1, l2, l3 = la \n",
    "print(\"Eigenvalues:\",l1,l2,l3)"
   ]
  },
  {
   "cell_type": "markdown",
   "metadata": {},
   "source": [
    "__Please see notepaper for Eigenvalue and EigenVector Calculation__"
   ]
  },
  {
   "cell_type": "markdown",
   "metadata": {},
   "source": [
    "Part 3: Find the Gradient if the ∇Af(A) for the following:"
   ]
  },
  {
   "cell_type": "markdown",
   "metadata": {},
   "source": [
    "__Please see notepaper for Gradient Calculation__"
   ]
  },
  {
   "cell_type": "markdown",
   "metadata": {},
   "source": [
    "Part 4: Find the Hessian Matrix for:"
   ]
  },
  {
   "cell_type": "markdown",
   "metadata": {},
   "source": [
    "__Please see notepaper for Hessian Matrix__"
   ]
  },
  {
   "cell_type": "markdown",
   "metadata": {},
   "source": [
    "# Problem 3: Machine Learning\n"
   ]
  },
  {
   "cell_type": "markdown",
   "metadata": {},
   "source": [
    "__Part 1:__ Explain the difference between validation and test samples"
   ]
  },
  {
   "cell_type": "markdown",
   "metadata": {},
   "source": [
    "The validation samples are used to provide an evaluation of the training dataset while tuning the model. On the other hand, the test samples is used to provide an evaluation of the final model dataset"
   ]
  },
  {
   "cell_type": "markdown",
   "metadata": {},
   "source": [
    "__Part 2:__ Explain the difference between supervised and unsupervised learning algorithm"
   ]
  },
  {
   "cell_type": "markdown",
   "metadata": {},
   "source": [
    "Supervised learning is used having prior knowledge of what the output values for our samples should be. Therefore, supervised learning is to learn and predict the relationship between input and output observable in the data. Unsupervised learning, on the other hand, does not have labeled outputs, so the goal is infer the data structure"
   ]
  }
 ],
 "metadata": {
  "kernelspec": {
   "display_name": "Python 3",
   "language": "python",
   "name": "python3"
  },
  "language_info": {
   "codemirror_mode": {
    "name": "ipython",
    "version": 3
   },
   "file_extension": ".py",
   "mimetype": "text/x-python",
   "name": "python",
   "nbconvert_exporter": "python",
   "pygments_lexer": "ipython3",
   "version": "3.6.4"
  }
 },
 "nbformat": 4,
 "nbformat_minor": 2
}
