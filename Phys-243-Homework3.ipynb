{
 "cells": [
  {
   "cell_type": "markdown",
   "metadata": {},
   "source": [
    "# 1. Find the probability for the case of l > t."
   ]
  },
  {
   "cell_type": "markdown",
   "metadata": {},
   "source": [
    "$ l > t = $$  {\\displaystyle \\int_{\\theta = 0}^{(\\pi/2)} } $ $  {\\displaystyle \\int_{x = 0}^{m(\\theta)} } $ $\\frac{4}{t\\pi }$ $dx d\\theta $"
   ]
  },
  {
   "cell_type": "markdown",
   "metadata": {},
   "source": [
    "$ l > t   = $ $\\frac{2}{\\pi }$ $cos^-1 $ $\\frac{t}{l}$  + $\\frac{2}{\\pi}$$\\frac{l}{t}$ {  $\\sqrt(1 - (\\frac{t}{l})^2$ }"
   ]
  },
  {
   "cell_type": "code",
   "execution_count": 453,
   "metadata": {},
   "outputs": [],
   "source": [
    "import random\n",
    "import numpy as np\n",
    "import pandas as pd\n",
    "import matplotlib.pyplot as plt"
   ]
  },
  {
   "cell_type": "code",
   "execution_count": 143,
   "metadata": {},
   "outputs": [],
   "source": [
    "class Buffon_Short_Needle:\n",
    "    def __init__(self,l,t):\n",
    "        self.l = l #needle length\n",
    "        self.t = t #width of the strip on the board\n",
    "        \n",
    "    def throw_needle(self):\n",
    "            centerofneedle = np.random.uniform(0,self.t/2)\n",
    "            theta = np.random.uniform(0, np.pi/2)\n",
    "            \n",
    "            if centerofneedle < (self.l/2)* np.sin(theta):\n",
    "                    return 1 # win\n",
    "            else:\n",
    "                    return 0 #you lost\n",
    "                \n",
    "    def __str__(self):\n",
    "        return \"Buffon_Needle\"\n"
   ]
  },
  {
   "cell_type": "markdown",
   "metadata": {},
   "source": [
    "## Testing Buffon's Game"
   ]
  },
  {
   "cell_type": "code",
   "execution_count": 121,
   "metadata": {},
   "outputs": [
    {
     "name": "stdout",
     "output_type": "stream",
     "text": [
      "0\n",
      "0\n",
      "0\n",
      "1\n"
     ]
    }
   ],
   "source": [
    "game1 = Buffon_short_needle(2,4)\n",
    "print(game1.throw_needle())\n",
    "print(game1.throw_needle())\n",
    "print(game1.throw_needle())\n",
    "print(game1.throw_needle())"
   ]
  },
  {
   "cell_type": "markdown",
   "metadata": {},
   "source": [
    "## Let's Play!!"
   ]
  },
  {
   "cell_type": "code",
   "execution_count": 347,
   "metadata": {},
   "outputs": [],
   "source": [
    "def play_game(game, number_of_throws):\n",
    "    total_wins = 0\n",
    "    for i in range(number_of_throws):\n",
    "        total_wins += game.throw_needle()\n",
    "    ratio=total_wins/number_of_throws\n",
    "#     print(total_wins, \"wins out of\", number_of_throws , 'in the', game)\n",
    "#     print(\"Expected return for \", game, \"is \", str(100*ratio)+\"% \\n\")\n",
    "    return (ratio)"
   ]
  },
  {
   "cell_type": "code",
   "execution_count": 119,
   "metadata": {},
   "outputs": [
    {
     "name": "stdout",
     "output_type": "stream",
     "text": [
      "5 wins out of 20 in the Buffon_needle\n",
      "Expected return for  Buffon_needle is  25.0% \n",
      "\n"
     ]
    },
    {
     "data": {
      "text/plain": [
       "0.25"
      ]
     },
     "execution_count": 119,
     "metadata": {},
     "output_type": "execute_result"
    }
   ],
   "source": [
    "play_game(game1,20)"
   ]
  },
  {
   "cell_type": "markdown",
   "metadata": {},
   "source": [
    "# 2. Find the probability using Monte Carlo simulation for l < t"
   ]
  },
  {
   "cell_type": "code",
   "execution_count": 177,
   "metadata": {},
   "outputs": [
    {
     "name": "stdout",
     "output_type": "stream",
     "text": [
      "3 wins out of 10 in the Buffon_needle\n",
      "Expected return for  Buffon_needle is  30.0% \n",
      "\n",
      "2 wins out of 10 in the Buffon_needle\n",
      "Expected return for  Buffon_needle is  20.0% \n",
      "\n",
      "35 wins out of 100 in the Buffon_needle\n",
      "Expected return for  Buffon_needle is  35.0% \n",
      "\n",
      "34 wins out of 100 in the Buffon_needle\n",
      "Expected return for  Buffon_needle is  34.0% \n",
      "\n",
      "306 wins out of 1000 in the Buffon_needle\n",
      "Expected return for  Buffon_needle is  30.599999999999998% \n",
      "\n",
      "310 wins out of 1000 in the Buffon_needle\n",
      "Expected return for  Buffon_needle is  31.0% \n",
      "\n",
      "3218 wins out of 10000 in the Buffon_needle\n",
      "Expected return for  Buffon_needle is  32.18% \n",
      "\n",
      "3190 wins out of 10000 in the Buffon_needle\n",
      "Expected return for  Buffon_needle is  31.900000000000002% \n",
      "\n",
      "31794 wins out of 100000 in the Buffon_needle\n",
      "Expected return for  Buffon_needle is  31.794% \n",
      "\n",
      "32006 wins out of 100000 in the Buffon_needle\n",
      "Expected return for  Buffon_needle is  32.006% \n",
      "\n",
      "317891 wins out of 1000000 in the Buffon_needle\n",
      "Expected return for  Buffon_needle is  31.789099999999998% \n",
      "\n",
      "318143 wins out of 1000000 in the Buffon_needle\n",
      "Expected return for  Buffon_needle is  31.8143% \n",
      "\n"
     ]
    }
   ],
   "source": [
    "our_game = Buffon_needle(2,4)\n",
    "list_of_throws = [10, 100, 1000, 10000, 100000, 1000000]\n",
    "\n",
    "for spins_num in list_of_throws:\n",
    "    for _ in range(2):\n",
    "        play_game(our_game, spins_num)"
   ]
  },
  {
   "cell_type": "markdown",
   "metadata": {},
   "source": [
    "# For the general case and find the value of the π using some special case (e.g. l = 2, and t = 3)\n"
   ]
  },
  {
   "cell_type": "code",
   "execution_count": 180,
   "metadata": {},
   "outputs": [
    {
     "name": "stdout",
     "output_type": "stream",
     "text": [
      "424521 wins out of 1000000 in the Buffon_Needle\n",
      "Expected return for  Buffon_Needle is  42.4521% \n",
      "\n",
      "My Pi is 3.1407947624106543\n",
      "True Pi is  3.141592653589793\n"
     ]
    }
   ],
   "source": [
    "game_pi = Buffon_Short_Needle(2,3)\n",
    "million_games = play_game(game_pi,1000000)\n",
    "def find_pi(Ratio,game):\n",
    "    return((2*game.l)/(game.t*Ratio))\n",
    "\n",
    "print('My Pi is',find_pi(million_games,game_pi))\n",
    "print('True Pi is ', np.pi)"
   ]
  },
  {
   "cell_type": "markdown",
   "metadata": {},
   "source": [
    "# 3. Find the probability using Monte Carlo simulation (l > t) for the general case."
   ]
  },
  {
   "cell_type": "code",
   "execution_count": 149,
   "metadata": {},
   "outputs": [],
   "source": [
    "class Buffon_long_needle(Buffon_Short_Needle):        \n",
    "    def throw_needle(self):\n",
    "            theta = np.random.uniform(0, np.pi/2)\n",
    "            centerofneedle = np.random.uniform(0,min(((self.l/2)*np.cos(theta)),(self.t/2)))\n",
    "            \n",
    "            if centerofneedle < (self.l/2)* np.sin(theta):\n",
    "                    return 1 # win\n",
    "            else:\n",
    "                    return 0 #you lost   \n",
    "                \n",
    "    def __str__(self):\n",
    "        return \"Buffon_long_needle\""
   ]
  },
  {
   "cell_type": "code",
   "execution_count": 173,
   "metadata": {},
   "outputs": [],
   "source": [
    "game_long = Buffon_long_needle(8,2)"
   ]
  },
  {
   "cell_type": "code",
   "execution_count": 174,
   "metadata": {},
   "outputs": [
    {
     "name": "stdout",
     "output_type": "stream",
     "text": [
      "9 wins out of 10 in the Buffon_long_needle\n",
      "Expected return for  Buffon_long_needle is  90.0% \n",
      "\n",
      "10 wins out of 10 in the Buffon_long_needle\n",
      "Expected return for  Buffon_long_needle is  100.0% \n",
      "\n",
      "87 wins out of 100 in the Buffon_long_needle\n",
      "Expected return for  Buffon_long_needle is  87.0% \n",
      "\n",
      "93 wins out of 100 in the Buffon_long_needle\n",
      "Expected return for  Buffon_long_needle is  93.0% \n",
      "\n",
      "931 wins out of 1000 in the Buffon_long_needle\n",
      "Expected return for  Buffon_long_needle is  93.10000000000001% \n",
      "\n",
      "931 wins out of 1000 in the Buffon_long_needle\n",
      "Expected return for  Buffon_long_needle is  93.10000000000001% \n",
      "\n",
      "9190 wins out of 10000 in the Buffon_long_needle\n",
      "Expected return for  Buffon_long_needle is  91.9% \n",
      "\n",
      "9219 wins out of 10000 in the Buffon_long_needle\n",
      "Expected return for  Buffon_long_needle is  92.19000000000001% \n",
      "\n",
      "91993 wins out of 100000 in the Buffon_long_needle\n",
      "Expected return for  Buffon_long_needle is  91.99300000000001% \n",
      "\n",
      "91998 wins out of 100000 in the Buffon_long_needle\n",
      "Expected return for  Buffon_long_needle is  91.998% \n",
      "\n",
      "919944 wins out of 1000000 in the Buffon_long_needle\n",
      "Expected return for  Buffon_long_needle is  91.9944% \n",
      "\n",
      "920008 wins out of 1000000 in the Buffon_long_needle\n",
      "Expected return for  Buffon_long_needle is  92.0008% \n",
      "\n"
     ]
    }
   ],
   "source": [
    "list_of_throws = [10, 100, 1000, 10000, 100000, 1000000]\n",
    "\n",
    "for spins_num in list_of_throws:\n",
    "    for _ in range(2):\n",
    "        play_game(game_long, spins_num)        "
   ]
  },
  {
   "cell_type": "code",
   "execution_count": 657,
   "metadata": {},
   "outputs": [
    {
     "data": {
      "text/plain": [
       "0.6008546166165936"
      ]
     },
     "execution_count": 657,
     "metadata": {},
     "output_type": "execute_result"
    }
   ],
   "source": [
    "#Checking Work\n",
    "def prob_calc(l,t):\n",
    "    if l < t:\n",
    "        return((2*l))/((t*np.pi))\n",
    "    else:\n",
    "        return( ((2/np.pi)*math.acos((t/l)))  + ((2/np.pi)*(l/t)*(1 - np.sqrt(1-(t/l)**2))))\n",
    "prob_calc(84,89) "
   ]
  },
  {
   "cell_type": "markdown",
   "metadata": {},
   "source": [
    "# Plot"
   ]
  },
  {
   "cell_type": "code",
   "execution_count": 483,
   "metadata": {},
   "outputs": [],
   "source": [
    "def rand_num():\n",
    "    l = random.randint(1,100)\n",
    "    t = random.randint(10,100)\n",
    "    return( l, t)\n",
    "rand_num()\n",
    "tuple_list = tuple([tuple(rand_num()) for i in range(300)])"
   ]
  },
  {
   "cell_type": "markdown",
   "metadata": {},
   "source": [
    "## Monte Carlo Simulation"
   ]
  },
  {
   "cell_type": "code",
   "execution_count": 678,
   "metadata": {},
   "outputs": [],
   "source": [
    "dict_x  = {}\n",
    "for l, t in tuple_list:\n",
    "    if l < t:\n",
    "        game_pi = Buffon_Short_Needle(l,t)\n",
    "        million_games = play_game(game_pi,10000)\n",
    "        dict_x[l,t] = million_games\n",
    "    else:\n",
    "        game_pi = Buffon_long_needle(l,t)\n",
    "        million_games = play_game(game_pi,10000)\n",
    "        dict_x[l,t] = million_games\n",
    "df = pd.DataFrame(dict_x.items(), columns=['Key', 'Probability'])\n",
    "df['X'] = [(l/t) for l,t in df['Key']]"
   ]
  },
  {
   "cell_type": "markdown",
   "metadata": {},
   "source": [
    "## Analytic approach:"
   ]
  },
  {
   "cell_type": "code",
   "execution_count": null,
   "metadata": {},
   "outputs": [],
   "source": [
    "dict_calc  = {}\n",
    "for l, t in tuple_list:\n",
    "    dict_calc[l,t] = prob_calc(l,t)\n",
    "df2 = pd.DataFrame(dict_calc.items(), columns=['Key', 'Probability'])\n",
    "df2['X'] = [(l/t) for l,t in df['Key']]"
   ]
  },
  {
   "cell_type": "markdown",
   "metadata": {},
   "source": [
    "# 4. After writing your general code in Part 3 plot the Probability vs l/t ratio.\n"
   ]
  },
  {
   "cell_type": "code",
   "execution_count": 695,
   "metadata": {},
   "outputs": [
    {
     "data": {
      "image/png": "[encoded data removed]",
      "text/plain": [
       "<Figure size 432x288 with 1 Axes>"
      ]
     },
     "metadata": {
      "needs_background": "light"
     },
     "output_type": "display_data"
    }
   ],
   "source": [
    "plt.scatter(df['X'],df['Probability'],color='orange')\n",
    "plt.axvline(1, color = 'green')\n",
    "plt.xlim(0, 8,0.01)\n",
    "plt.ylim(0, 1,0.01)\n",
    "plt.title('Buffon Needle- Monte Carlo', size = 16)\n",
    "plt.xlabel(r\"X\", size=20)\n",
    "plt.ylabel(r\"Probability\", size=20)\n",
    "plt.show()"
   ]
  },
  {
   "cell_type": "markdown",
   "metadata": {},
   "source": [
    "# 5. Plot the analytic formula for P(l/t) along side your previous result and comment on the result."
   ]
  },
  {
   "cell_type": "code",
   "execution_count": 692,
   "metadata": {},
   "outputs": [
    {
     "data": {
      "image/png": "[encoded data removed]",
      "text/plain": [
       "<Figure size 432x288 with 1 Axes>"
      ]
     },
     "metadata": {
      "needs_background": "light"
     },
     "output_type": "display_data"
    }
   ],
   "source": [
    "plt.title('Buffon Needle -Analytic Approach', size = 16)\n",
    "plt.xlabel(r\"X\", size=20)\n",
    "plt.ylabel(r\"Probability\", size=20)\n",
    "plt.xlim(0, 8,0.01)\n",
    "plt.ylim(0, 1,0.01)\n",
    "plt.scatter(df2['X'],df2['Probability'],)\n",
    "plt.axvline(1, color = 'green')\n",
    "plt.show()"
   ]
  },
  {
   "cell_type": "markdown",
   "metadata": {},
   "source": [
    "In the Analytic approach, the results create a smoother line than the Monte Carlo simulation. This is expected. We can also see when the needle is shorter, the probablity changes linearly."
   ]
  }
 ],
 "metadata": {
  "kernelspec": {
   "display_name": "Python 3",
   "language": "python",
   "name": "python3"
  },
  "language_info": {
   "codemirror_mode": {
    "name": "ipython",
    "version": 3
   },
   "file_extension": ".py",
   "mimetype": "text/x-python",
   "name": "python",
   "nbconvert_exporter": "python",
   "pygments_lexer": "ipython3",
   "version": "3.7.3"
  }
 },
 "nbformat": 4,
 "nbformat_minor": 2
}
